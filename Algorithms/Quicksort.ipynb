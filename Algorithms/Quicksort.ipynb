{
 "cells": [
  {
   "cell_type": "markdown",
   "metadata": {},
   "source": [
    "## Quicksort\n",
    "\n",
    "1. find pivot of the given list \n",
    "2. move all numbers that are less than the pivot to the left and all larger to the right\n",
    "3. continue the process for the left and right list until all numbers are in their sorted order.\n"
   ]
  },
  {
   "cell_type": "code",
   "execution_count": 11,
   "metadata": {},
   "outputs": [],
   "source": [
    "import random\n",
    "def quicksort(xs):\n",
    "    def partition(xs, start, end):\n",
    "        pivot_idx = random.choice(range(start,end))\n",
    "        xs[pivot_idx], xs[end] = xs[end], xs[pivot_idx]\n",
    "        i = j = start\n",
    "        while j < end:\n",
    "            if xs[j] <= xs[end]:\n",
    "                # if the jth item is less than the pivot,move to front\n",
    "                xs[i], xs[j] = xs[j], xs[i]\n",
    "                # front point move right\n",
    "                i += 1\n",
    "            j += 1\n",
    "        xs[i], xs[end] = xs[end], xs[i]\n",
    "        return i    \n",
    "\n",
    "    def _quicksort(xs, start, end):\n",
    "        if start >= end:\n",
    "            return\n",
    "        p = partition(xs, start, end)\n",
    "        _quicksort(xs, start, p-1)\n",
    "        _quicksort(xs, p+1, end)\n",
    "\n",
    "    _quicksort(xs, 0, len(xs)-1)\n",
    "    return xs"
   ]
  },
  {
   "cell_type": "code",
   "execution_count": 12,
   "metadata": {},
   "outputs": [
    {
     "data": {
      "text/plain": [
       "[1, 2, 3, 5]"
      ]
     },
     "execution_count": 12,
     "metadata": {},
     "output_type": "execute_result"
    }
   ],
   "source": [
    "xs = [5,3,1,2]\n",
    "quicksort(xs)"
   ]
  },
  {
   "cell_type": "markdown",
   "metadata": {},
   "source": [
    "## Time Complexity\n",
    "The worst case scenario is when the smallest or largest element is always selected as the pivot. This would create partitions of size n-1, causing recursive calls n-1 times. This leads us to a worst case time complexity of O(n^2).<br>\n",
    "<br>\n",
    "With a good pivot, the Quick Sort function would partition the array into halves which grows logarithmically with n. Therefore the average time complexity of the Quick Sort algorithm is O(nlog(n)).\n"
   ]
  },
  {
   "cell_type": "markdown",
   "metadata": {},
   "source": [
    "## Quickselect\n",
    "\n",
    "It's a very useful algorithm when asked to find the kth largest/smallest item. It uses quicksort's partition technique to reduce time complexity. Instead of sorting the whole list, quickselect can only sort k items in the list and reduce run time to O(n) from O(nlogn)."
   ]
  },
  {
   "cell_type": "code",
   "execution_count": 90,
   "metadata": {},
   "outputs": [],
   "source": [
    "# find the kth largest item in the list\n",
    "def KthSmallest(xs,k):\n",
    "    def partition(xs, start, end):\n",
    "        pivot_idx = random.choice(range(start,end))\n",
    "        xs[pivot_idx], xs[end] = xs[end], xs[pivot_idx]\n",
    "        i = j = start\n",
    "        while j < end:\n",
    "            if xs[j] <= xs[end]:\n",
    "                # if the jth item is less than the pivot,move to front\n",
    "                xs[i], xs[j] = xs[j], xs[i]\n",
    "                # front point move right\n",
    "                i += 1\n",
    "            j += 1\n",
    "        xs[i], xs[end] = xs[end], xs[i]\n",
    "        return i  \n",
    "    def _quickselect(xs, start, end, k):\n",
    "        if start==end:\n",
    "            return xs[start]\n",
    "        p = partition(xs, start, end)\n",
    "        if p>k-1:\n",
    "            return _quickselect(xs,start, p-1 , k)\n",
    "            \n",
    "        elif p<k-1:\n",
    "            return _quickselect(xs, p+1, end , k)\n",
    "            \n",
    "        else:\n",
    "            return xs[p]\n",
    "        \n",
    "    return _quickselect(xs, 0, len(xs)-1, k)"
   ]
  },
  {
   "cell_type": "code",
   "execution_count": 104,
   "metadata": {},
   "outputs": [
    {
     "name": "stdout",
     "output_type": "stream",
     "text": [
      "3th smallest is  3\n"
     ]
    }
   ],
   "source": [
    "xs = [5,3,1,2]\n",
    "k = 3\n",
    "output = KthSmallest(xs,k)\n",
    "print(str(k)+'th smallest is ',output)"
   ]
  },
  {
   "cell_type": "code",
   "execution_count": 105,
   "metadata": {},
   "outputs": [
    {
     "name": "stdout",
     "output_type": "stream",
     "text": [
      "8th smallest is  10\n"
     ]
    }
   ],
   "source": [
    "xs = [8, 4, 2, 2, 1, 7, 10, 5]\n",
    "k = 8\n",
    "output = KthSmallest(xs,k)\n",
    "print(str(k)+'th smallest is ',output)"
   ]
  },
  {
   "cell_type": "markdown",
   "metadata": {},
   "source": [
    "## Time Complexity\n",
    "\n",
    "O(n)"
   ]
  }
 ],
 "metadata": {
  "kernelspec": {
   "display_name": "Python 3",
   "language": "python",
   "name": "python3"
  },
  "language_info": {
   "codemirror_mode": {
    "name": "ipython",
    "version": 3
   },
   "file_extension": ".py",
   "mimetype": "text/x-python",
   "name": "python",
   "nbconvert_exporter": "python",
   "pygments_lexer": "ipython3",
   "version": "3.7.3"
  }
 },
 "nbformat": 4,
 "nbformat_minor": 2
}
